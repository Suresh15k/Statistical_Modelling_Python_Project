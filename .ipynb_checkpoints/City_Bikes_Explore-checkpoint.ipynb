{
 "cells": [
  {
   "cell_type": "code",
   "execution_count": 195,
   "id": "f85b5bcb",
   "metadata": {},
   "outputs": [],
   "source": [
    "import requests\n",
    "import os \n",
    "from bs4 import BeautifulSoup"
   ]
  },
  {
   "cell_type": "code",
   "execution_count": 196,
   "id": "0630a525",
   "metadata": {},
   "outputs": [],
   "source": [
    "url = 'http://api.citybik.es/v2/networks'"
   ]
  },
  {
   "cell_type": "code",
   "execution_count": 197,
   "id": "9969b184",
   "metadata": {},
   "outputs": [],
   "source": [
    "response = requests.get(url)"
   ]
  },
  {
   "cell_type": "code",
   "execution_count": 307,
   "id": "2a629841",
   "metadata": {
    "scrolled": false
   },
   "outputs": [],
   "source": [
    "city = 'Moscow'"
   ]
  },
  {
   "cell_type": "code",
   "execution_count": 308,
   "id": "705035ab",
   "metadata": {},
   "outputs": [
    {
     "name": "stdout",
     "output_type": "stream",
     "text": [
      "{'company': ['ЗАО «СитиБайк»'], 'href': '/v2/networks/velobike-moscow', 'id': 'velobike-moscow', 'location': {'city': 'Moscow', 'country': 'RU', 'latitude': 55.75, 'longitude': 37.616667}, 'name': 'Velobike'}\n"
     ]
    }
   ],
   "source": [
    "if response.status_code == 200:\n",
    "    city_bikes = response.json()\n",
    "    for network in city_bikes ['networks']:\n",
    "        if network['location']['city'] == city:\n",
    "            print(network)\n",
    "else: print(f\"Error: {responce.status_code}\")"
   ]
  },
  {
   "cell_type": "code",
   "execution_count": 302,
   "id": "2291c34d",
   "metadata": {},
   "outputs": [
    {
     "data": {
      "text/plain": [
       "dict"
      ]
     },
     "execution_count": 302,
     "metadata": {},
     "output_type": "execute_result"
    }
   ],
   "source": [
    "type(respoce_network)"
   ]
  },
  {
   "cell_type": "code",
   "execution_count": null,
   "id": "0ef62f37",
   "metadata": {},
   "outputs": [],
   "source": []
  },
  {
   "cell_type": "code",
   "execution_count": null,
   "id": "8d073f9a",
   "metadata": {},
   "outputs": [],
   "source": []
  },
  {
   "cell_type": "code",
   "execution_count": 199,
   "id": "cb9caa8f",
   "metadata": {},
   "outputs": [],
   "source": [
    "import pandas as pd"
   ]
  },
  {
   "cell_type": "code",
   "execution_count": 200,
   "id": "c94e6636",
   "metadata": {},
   "outputs": [],
   "source": [
    "import numpy as np"
   ]
  },
  {
   "cell_type": "code",
   "execution_count": 201,
   "id": "4b6ec8c1",
   "metadata": {},
   "outputs": [],
   "source": [
    "import json"
   ]
  },
  {
   "cell_type": "code",
   "execution_count": 273,
   "id": "9e9a5811",
   "metadata": {},
   "outputs": [],
   "source": [
    "url_1 = 'http://api.citybik.es/v2/networks/velobike-moscow'"
   ]
  },
  {
   "cell_type": "code",
   "execution_count": 274,
   "id": "5231e4a3",
   "metadata": {},
   "outputs": [],
   "source": [
    "city_location = requests.get(url_1)"
   ]
  },
  {
   "cell_type": "code",
   "execution_count": 309,
   "id": "1cdc9fbc",
   "metadata": {},
   "outputs": [],
   "source": [
    "city = city_location.json()"
   ]
  },
  {
   "cell_type": "code",
   "execution_count": 1,
   "id": "bf930e88",
   "metadata": {},
   "outputs": [
    {
     "ename": "NameError",
     "evalue": "name 'city' is not defined",
     "output_type": "error",
     "traceback": [
      "\u001b[1;31m---------------------------------------------------------------------------\u001b[0m",
      "\u001b[1;31mNameError\u001b[0m                                 Traceback (most recent call last)",
      "Cell \u001b[1;32mIn[1], line 1\u001b[0m\n\u001b[1;32m----> 1\u001b[0m \u001b[38;5;28mprint\u001b[39m(\u001b[43mcity\u001b[49m)\n",
      "\u001b[1;31mNameError\u001b[0m: name 'city' is not defined"
     ]
    }
   ],
   "source": [
    "print(city)"
   ]
  },
  {
   "cell_type": "code",
   "execution_count": 324,
   "id": "3e9959b4",
   "metadata": {},
   "outputs": [],
   "source": [
    "station = city['network']['stations']"
   ]
  },
  {
   "cell_type": "code",
   "execution_count": 329,
   "id": "11b9c1cb",
   "metadata": {},
   "outputs": [
    {
     "name": "stdout",
     "output_type": "stream",
     "text": [
      "37.5205529\n",
      "37.5205529\n",
      "37.5205529\n",
      "37.5205529\n",
      "37.5205529\n",
      "37.5205529\n",
      "37.5205529\n",
      "37.5205529\n"
     ]
    }
   ],
   "source": [
    "for value in station :\n",
    "    print (station['longitude'])"
   ]
  },
  {
   "cell_type": "code",
   "execution_count": 285,
   "id": "a1e3b06c",
   "metadata": {},
   "outputs": [],
   "source": [
    "networkid_response = city_location.json()"
   ]
  },
  {
   "cell_type": "code",
   "execution_count": 319,
   "id": "40ccde01",
   "metadata": {},
   "outputs": [
    {
     "data": {
      "text/plain": [
       "{'empty_slots': 4,\n",
       " 'extra': {'address': 'ул. Профсоюзная, д.109, Вс.1 (ст. м. Коньково, выход №10)',\n",
       "  'ebikes': 0,\n",
       "  'electric_free': 0,\n",
       "  'electric_slots': 0,\n",
       "  'normal_bikes': 2,\n",
       "  'normal_free': 4,\n",
       "  'normal_slots': 6,\n",
       "  'slots': 6,\n",
       "  'uid': '0387'},\n",
       " 'free_bikes': 2,\n",
       " 'id': 'ac022f0470de9722cc62e06ade73b0a6',\n",
       " 'latitude': 55.6337498,\n",
       " 'longitude': 37.5205529,\n",
       " 'name': 'ул. Профсоюзная, д.109, Вс.1 (ст. м. Коньково, выход №10)',\n",
       " 'timestamp': '2023-06-21T22:08:03.197000Z'}"
      ]
     },
     "execution_count": 319,
     "metadata": {},
     "output_type": "execute_result"
    }
   ],
   "source": [
    "networkid_response['network']['stations']"
   ]
  },
  {
   "cell_type": "code",
   "execution_count": 294,
   "id": "c2f8929d",
   "metadata": {},
   "outputs": [],
   "source": [
    "city_df = pd.DataFrame(city_location.json())"
   ]
  },
  {
   "cell_type": "code",
   "execution_count": 299,
   "id": "764a0bde",
   "metadata": {},
   "outputs": [
    {
     "data": {
      "text/html": [
       "<div>\n",
       "<style scoped>\n",
       "    .dataframe tbody tr th:only-of-type {\n",
       "        vertical-align: middle;\n",
       "    }\n",
       "\n",
       "    .dataframe tbody tr th {\n",
       "        vertical-align: top;\n",
       "    }\n",
       "\n",
       "    .dataframe thead th {\n",
       "        text-align: right;\n",
       "    }\n",
       "</style>\n",
       "<table border=\"1\" class=\"dataframe\">\n",
       "  <thead>\n",
       "    <tr style=\"text-align: right;\">\n",
       "      <th></th>\n",
       "      <th>network</th>\n",
       "    </tr>\n",
       "  </thead>\n",
       "  <tbody>\n",
       "    <tr>\n",
       "      <th>company</th>\n",
       "      <td>[ЗАО «СитиБайк»]</td>\n",
       "    </tr>\n",
       "    <tr>\n",
       "      <th>href</th>\n",
       "      <td>/v2/networks/velobike-moscow</td>\n",
       "    </tr>\n",
       "    <tr>\n",
       "      <th>id</th>\n",
       "      <td>velobike-moscow</td>\n",
       "    </tr>\n",
       "    <tr>\n",
       "      <th>location</th>\n",
       "      <td>{'city': 'Moscow', 'country': 'RU', 'latitude'...</td>\n",
       "    </tr>\n",
       "    <tr>\n",
       "      <th>name</th>\n",
       "      <td>Velobike</td>\n",
       "    </tr>\n",
       "    <tr>\n",
       "      <th>stations</th>\n",
       "      <td>[{'empty_slots': 1, 'extra': {'address': 'ст. ...</td>\n",
       "    </tr>\n",
       "  </tbody>\n",
       "</table>\n",
       "</div>"
      ],
      "text/plain": [
       "                                                    network\n",
       "company                                    [ЗАО «СитиБайк»]\n",
       "href                           /v2/networks/velobike-moscow\n",
       "id                                          velobike-moscow\n",
       "location  {'city': 'Moscow', 'country': 'RU', 'latitude'...\n",
       "name                                               Velobike\n",
       "stations  [{'empty_slots': 1, 'extra': {'address': 'ст. ..."
      ]
     },
     "execution_count": 299,
     "metadata": {},
     "output_type": "execute_result"
    }
   ],
   "source": [
    "city_df.head(10)"
   ]
  },
  {
   "cell_type": "code",
   "execution_count": 228,
   "id": "a6743fa5",
   "metadata": {},
   "outputs": [
    {
     "ename": "ModuleNotFoundError",
     "evalue": "No module named 'pybike'",
     "output_type": "error",
     "traceback": [
      "\u001b[1;31m---------------------------------------------------------------------------\u001b[0m",
      "\u001b[1;31mModuleNotFoundError\u001b[0m                       Traceback (most recent call last)",
      "Cell \u001b[1;32mIn[228], line 1\u001b[0m\n\u001b[1;32m----> 1\u001b[0m \u001b[38;5;28;01mimport\u001b[39;00m \u001b[38;5;21;01mpybike\u001b[39;00m\n",
      "\u001b[1;31mModuleNotFoundError\u001b[0m: No module named 'pybike'"
     ]
    }
   ],
   "source": [
    "import pybike \n"
   ]
  },
  {
   "cell_type": "code",
   "execution_count": null,
   "id": "7297b43a",
   "metadata": {},
   "outputs": [],
   "source": []
  },
  {
   "cell_type": "code",
   "execution_count": null,
   "id": "522a0347",
   "metadata": {},
   "outputs": [],
   "source": []
  },
  {
   "cell_type": "code",
   "execution_count": null,
   "id": "8b5ad2d2",
   "metadata": {},
   "outputs": [],
   "source": []
  },
  {
   "cell_type": "code",
   "execution_count": 77,
   "id": "3d448684",
   "metadata": {},
   "outputs": [],
   "source": [
    "df = pd.DataFrame(response.json())"
   ]
  },
  {
   "cell_type": "code",
   "execution_count": 90,
   "id": "5d0b3f30",
   "metadata": {},
   "outputs": [
    {
     "data": {
      "text/plain": [
       "<bound method NDFrame.head of                                               networks\n",
       "0    {'company': ['ЗАО «СитиБайк»'], 'href': '/v2/n...\n",
       "1    {'company': ['Urban Infrastructure Partner'], ...\n",
       "2    {'company': ['Comunicare S.r.l.'], 'href': '/v...\n",
       "3    {'company': ['Cyclopolis Systems'], 'href': '/...\n",
       "4    {'company': ['Groundwork', 'Slough Borough Cou...\n",
       "..                                                 ...\n",
       "607  {'company': ['PubliBike AG'], 'href': '/v2/net...\n",
       "608  {'company': ['PubliBike AG'], 'href': '/v2/net...\n",
       "609  {'company': ['PubliBike AG'], 'href': '/v2/net...\n",
       "610  {'company': ['PubliBike AG'], 'href': '/v2/net...\n",
       "611  {'company': ['Citybike Normandie', 'INURBA Mob...\n",
       "\n",
       "[612 rows x 1 columns]>"
      ]
     },
     "execution_count": 90,
     "metadata": {},
     "output_type": "execute_result"
    }
   ],
   "source": [
    "df.head\n",
    "\n"
   ]
  },
  {
   "cell_type": "code",
   "execution_count": 154,
   "id": "656d4d92",
   "metadata": {},
   "outputs": [],
   "source": [
    "url_2 = 'http://api.citybik.es/v2/networks/network_id'"
   ]
  },
  {
   "cell_type": "code",
   "execution_count": 155,
   "id": "a5aa155f",
   "metadata": {},
   "outputs": [],
   "source": [
    "network_detiles = requests.get(url_2)"
   ]
  },
  {
   "cell_type": "code",
   "execution_count": null,
   "id": "8454a3a5",
   "metadata": {},
   "outputs": [],
   "source": []
  },
  {
   "cell_type": "code",
   "execution_count": null,
   "id": "1494ec81",
   "metadata": {},
   "outputs": [],
   "source": []
  },
  {
   "cell_type": "code",
   "execution_count": 150,
   "id": "1087ad27",
   "metadata": {
    "scrolled": true
   },
   "outputs": [
    {
     "data": {
      "text/html": [
       "<div>\n",
       "<style scoped>\n",
       "    .dataframe tbody tr th:only-of-type {\n",
       "        vertical-align: middle;\n",
       "    }\n",
       "\n",
       "    .dataframe tbody tr th {\n",
       "        vertical-align: top;\n",
       "    }\n",
       "\n",
       "    .dataframe thead th {\n",
       "        text-align: right;\n",
       "    }\n",
       "</style>\n",
       "<table border=\"1\" class=\"dataframe\">\n",
       "  <thead>\n",
       "    <tr style=\"text-align: right;\">\n",
       "      <th></th>\n",
       "      <th>network</th>\n",
       "    </tr>\n",
       "  </thead>\n",
       "  <tbody>\n",
       "    <tr>\n",
       "      <th>company</th>\n",
       "      <td>[ЗАО «СитиБайк»]</td>\n",
       "    </tr>\n",
       "    <tr>\n",
       "      <th>href</th>\n",
       "      <td>/v2/networks/velobike-moscow</td>\n",
       "    </tr>\n",
       "    <tr>\n",
       "      <th>id</th>\n",
       "      <td>velobike-moscow</td>\n",
       "    </tr>\n",
       "    <tr>\n",
       "      <th>location</th>\n",
       "      <td>{'city': 'Moscow', 'country': 'RU', 'latitude'...</td>\n",
       "    </tr>\n",
       "    <tr>\n",
       "      <th>name</th>\n",
       "      <td>Velobike</td>\n",
       "    </tr>\n",
       "    <tr>\n",
       "      <th>stations</th>\n",
       "      <td>[{'empty_slots': 1, 'extra': {'address': 'ст. ...</td>\n",
       "    </tr>\n",
       "  </tbody>\n",
       "</table>\n",
       "</div>"
      ],
      "text/plain": [
       "                                                    network\n",
       "company                                    [ЗАО «СитиБайк»]\n",
       "href                           /v2/networks/velobike-moscow\n",
       "id                                          velobike-moscow\n",
       "location  {'city': 'Moscow', 'country': 'RU', 'latitude'...\n",
       "name                                               Velobike\n",
       "stations  [{'empty_slots': 1, 'extra': {'address': 'ст. ..."
      ]
     },
     "execution_count": 150,
     "metadata": {},
     "output_type": "execute_result"
    }
   ],
   "source": [
    "df_networkid"
   ]
  },
  {
   "cell_type": "code",
   "execution_count": 145,
   "id": "f309eb04",
   "metadata": {},
   "outputs": [
    {
     "data": {
      "text/plain": [
       "'Saint-Brieuc'"
      ]
     },
     "execution_count": 145,
     "metadata": {},
     "output_type": "execute_result"
    }
   ],
   "source": [
    "url_1 = 'http://api.citybik.es/v2/networks/'\n",
    "params_dict = { \n",
    "             'location' : {'city': 'Moscow',\n",
    "    'country': 'RU',\n",
    "    'latitude': 55.75,\n",
    "    'longitude': 37.616667}\n",
    "              }\n",
    "headers_dict = {'accept': 'application/JSON'}\n",
    "response = requests.get(url_1, params=params_dict, headers=headers_dict)\n",
    "res_json = response.json()\n",
    "res_json ['networks'][600]['location']['city']"
   ]
  },
  {
   "cell_type": "code",
   "execution_count": 146,
   "id": "743a2eda",
   "metadata": {},
   "outputs": [
    {
     "data": {
      "text/plain": [
       "'Saint-Brieuc'"
      ]
     },
     "execution_count": 146,
     "metadata": {},
     "output_type": "execute_result"
    }
   ],
   "source": [
    "res_json ['networks'][600]['location']['city']"
   ]
  },
  {
   "cell_type": "code",
   "execution_count": 229,
   "id": "0aa5ee5d",
   "metadata": {},
   "outputs": [],
   "source": [
    "url = 'https://api.citybik.es/v2/networks'"
   ]
  },
  {
   "cell_type": "code",
   "execution_count": 241,
   "id": "b4bfa3bb",
   "metadata": {},
   "outputs": [],
   "source": [
    "city = 'Bærum'"
   ]
  },
  {
   "cell_type": "code",
   "execution_count": 242,
   "id": "904332a7",
   "metadata": {},
   "outputs": [],
   "source": [
    "response = requests.get(url)"
   ]
  },
  {
   "cell_type": "code",
   "execution_count": 250,
   "id": "47d4f584",
   "metadata": {
    "scrolled": true
   },
   "outputs": [
    {
     "name": "stdout",
     "output_type": "stream",
     "text": [
      "Station: ['Urban Infrastructure Partner']\n",
      "Latitude: 59.89455\n",
      "Longitude: 10.546343\n",
      "-----------------------------\n",
      "Error: 200 - OK\n"
     ]
    }
   ],
   "source": [
    "if response.status_code == 200:\n",
    "    data = response.json()\n",
    "    for network in data['networks']:\n",
    "        if network['location']['city'] == city:\n",
    "            company_name  = network['company']\n",
    "            latitude = network['location']['latitude']\n",
    "            longitude = network['location']['longitude']\n",
    "                \n",
    "            print(f\"Station: {company_name}\")\n",
    "            print(f\"Latitude: {latitude}\")\n",
    "            print(f\"Longitude: {longitude}\")\n",
    "        \n",
    "\n",
    "                "
   ]
  },
  {
   "cell_type": "code",
   "execution_count": null,
   "id": "ca2ac9d2",
   "metadata": {},
   "outputs": [],
   "source": []
  }
 ],
 "metadata": {
  "kernelspec": {
   "display_name": "Python 3 (ipykernel)",
   "language": "python",
   "name": "python3"
  },
  "language_info": {
   "codemirror_mode": {
    "name": "ipython",
    "version": 3
   },
   "file_extension": ".py",
   "mimetype": "text/x-python",
   "name": "python",
   "nbconvert_exporter": "python",
   "pygments_lexer": "ipython3",
   "version": "3.10.9"
  }
 },
 "nbformat": 4,
 "nbformat_minor": 5
}
