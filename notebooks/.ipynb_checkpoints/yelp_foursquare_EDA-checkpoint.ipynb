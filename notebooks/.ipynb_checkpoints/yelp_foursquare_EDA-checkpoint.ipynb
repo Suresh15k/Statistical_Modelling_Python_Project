{
 "cells": [
  {
   "cell_type": "code",
   "execution_count": 200,
   "metadata": {},
   "outputs": [],
   "source": [
    "import pandas as pd \n",
    "import requests\n",
    "import os \n",
    "import json\n",
    "apikey = os.environ.get('FSQ_API_KEY')\n",
    "# yelp_apikey = os.environ.get('YELP_API_KEY')"
   ]
  },
  {
   "cell_type": "code",
   "execution_count": null,
   "metadata": {},
   "outputs": [],
   "source": []
  },
  {
   "cell_type": "markdown",
   "metadata": {},
   "source": [
    "# Foursquare"
   ]
  },
  {
   "cell_type": "markdown",
   "metadata": {},
   "source": [
    "Send a request to Foursquare with a small radius (1000m) for all the bike stations in your city of choice. "
   ]
  },
  {
   "cell_type": "code",
   "execution_count": 201,
   "metadata": {},
   "outputs": [],
   "source": [
    "%store -r location_list"
   ]
  },
  {
   "cell_type": "code",
   "execution_count": null,
   "metadata": {
    "tags": []
   },
   "outputs": [],
   "source": []
  },
  {
   "cell_type": "code",
   "execution_count": null,
   "metadata": {},
   "outputs": [],
   "source": []
  },
  {
   "cell_type": "code",
   "execution_count": 202,
   "metadata": {
    "scrolled": true,
    "tags": []
   },
   "outputs": [],
   "source": [
    "url = \"https://api.foursquare.com/v3/places/search\"\n",
    "\n",
    "params = {\n",
    "    \"query\": \"restaurants\",\n",
    "    \"sort\":\"DISTANCE\",\n",
    "    \"radius\": \"1000\"\n",
    "}\n",
    "\n",
    "headers = {\n",
    "    \"Accept\": \"application/json\",\n",
    "    \"Authorization\": apikey\n",
    "}\n",
    "\n",
    "for location in location_list:\n",
    "    params[\"ll\"] = location\n",
    "    response = requests.get(url, params=params, headers=headers)\n",
    "    \n",
    "    if response.status_code == 200:\n",
    "        data = response.json()\n",
    "  "
   ]
  },
  {
   "cell_type": "code",
   "execution_count": 243,
   "metadata": {
    "tags": []
   },
   "outputs": [],
   "source": [
    "fsq_response = response.json()\n"
   ]
  },
  {
   "cell_type": "code",
   "execution_count": 244,
   "metadata": {},
   "outputs": [],
   "source": [
    "# fsq_response\n"
   ]
  },
  {
   "cell_type": "code",
   "execution_count": 247,
   "metadata": {},
   "outputs": [
    {
     "ename": "KeyError",
     "evalue": "'results'",
     "output_type": "error",
     "traceback": [
      "\u001b[1;31m---------------------------------------------------------------------------\u001b[0m",
      "\u001b[1;31mKeyError\u001b[0m                                  Traceback (most recent call last)",
      "Cell \u001b[1;32mIn[247], line 1\u001b[0m\n\u001b[1;32m----> 1\u001b[0m fsq_restaurants \u001b[38;5;241m=\u001b[39m \u001b[43mfsq_response\u001b[49m\u001b[43m[\u001b[49m\u001b[38;5;124;43m'\u001b[39;49m\u001b[38;5;124;43mresults\u001b[39;49m\u001b[38;5;124;43m'\u001b[39;49m\u001b[43m]\u001b[49m\n",
      "\u001b[1;31mKeyError\u001b[0m: 'results'"
     ]
    }
   ],
   "source": [
    "fsq_restaurants = fsq_response['results']"
   ]
  },
  {
   "cell_type": "code",
   "execution_count": 248,
   "metadata": {},
   "outputs": [],
   "source": [
    "faq_parse_data = []"
   ]
  },
  {
   "cell_type": "code",
   "execution_count": 249,
   "metadata": {},
   "outputs": [],
   "source": [
    "for restaurant in fsq_restaurants:\n",
    "    name = restaurant['name'], \n",
    "    distance = restaurant['distance'], \n",
    "    faq_latitude = restaurant['geocodes']['main']['latitude'],\n",
    "    fsq_longitude = restaurant['geocodes']['main']['longitude']\n",
    "    fsq_dict = {'name' : name , \n",
    "                'distance' : distance , \n",
    "                'latitude' :latitude, \n",
    "                'longitude' : longitude \n",
    "               }\n",
    "    faq_parse_data.append(fsq_dict)"
   ]
  },
  {
   "cell_type": "code",
   "execution_count": 250,
   "metadata": {},
   "outputs": [],
   "source": [
    "# faq_parse_data"
   ]
  },
  {
   "cell_type": "code",
   "execution_count": null,
   "metadata": {},
   "outputs": [],
   "source": []
  },
  {
   "cell_type": "markdown",
   "metadata": {},
   "source": [
    "Parse through the response to get the POI (such as restaurants, bars, etc) details you want (ratings, name, location, etc)"
   ]
  },
  {
   "cell_type": "code",
   "execution_count": 251,
   "metadata": {},
   "outputs": [],
   "source": [
    "fsq_df = pd.DataFrame(faq_parse_data)"
   ]
  },
  {
   "cell_type": "code",
   "execution_count": 252,
   "metadata": {},
   "outputs": [],
   "source": [
    "# fsq_df"
   ]
  },
  {
   "cell_type": "code",
   "execution_count": 253,
   "metadata": {},
   "outputs": [],
   "source": [
    "fsq_df.to_csv('fsq_data_frame.csv', index=False)"
   ]
  },
  {
   "cell_type": "markdown",
   "metadata": {},
   "source": [
    "Put your parsed results into a DataFrame"
   ]
  },
  {
   "cell_type": "code",
   "execution_count": 254,
   "metadata": {},
   "outputs": [],
   "source": [
    "fsq_df = pd.DataFrame(faq_parse_data)"
   ]
  },
  {
   "cell_type": "code",
   "execution_count": 259,
   "metadata": {},
   "outputs": [
    {
     "data": {
      "text/html": [
       "<div>\n",
       "<style scoped>\n",
       "    .dataframe tbody tr th:only-of-type {\n",
       "        vertical-align: middle;\n",
       "    }\n",
       "\n",
       "    .dataframe tbody tr th {\n",
       "        vertical-align: top;\n",
       "    }\n",
       "\n",
       "    .dataframe thead th {\n",
       "        text-align: right;\n",
       "    }\n",
       "</style>\n",
       "<table border=\"1\" class=\"dataframe\">\n",
       "  <thead>\n",
       "    <tr style=\"text-align: right;\">\n",
       "      <th></th>\n",
       "      <th>name</th>\n",
       "      <th>distance</th>\n",
       "      <th>latitude</th>\n",
       "      <th>longitude</th>\n",
       "    </tr>\n",
       "  </thead>\n",
       "  <tbody>\n",
       "    <tr>\n",
       "      <th>0</th>\n",
       "      <td>(Restaurant Mon-Nan Cantonese Food Enr,)</td>\n",
       "      <td>(220,)</td>\n",
       "      <td>45.560394</td>\n",
       "      <td>-73.596768</td>\n",
       "    </tr>\n",
       "    <tr>\n",
       "      <th>1</th>\n",
       "      <td>(Restaurant Sai Gwan,)</td>\n",
       "      <td>(233,)</td>\n",
       "      <td>45.560394</td>\n",
       "      <td>-73.596768</td>\n",
       "    </tr>\n",
       "    <tr>\n",
       "      <th>2</th>\n",
       "      <td>(Pho Bang New York,)</td>\n",
       "      <td>(236,)</td>\n",
       "      <td>45.560394</td>\n",
       "      <td>-73.596768</td>\n",
       "    </tr>\n",
       "    <tr>\n",
       "      <th>3</th>\n",
       "      <td>(Sumo Ramen,)</td>\n",
       "      <td>(248,)</td>\n",
       "      <td>45.560394</td>\n",
       "      <td>-73.596768</td>\n",
       "    </tr>\n",
       "    <tr>\n",
       "      <th>4</th>\n",
       "      <td>(Qing Hua Chinatown,)</td>\n",
       "      <td>(250,)</td>\n",
       "      <td>45.560394</td>\n",
       "      <td>-73.596768</td>\n",
       "    </tr>\n",
       "    <tr>\n",
       "      <th>5</th>\n",
       "      <td>(Amigo,)</td>\n",
       "      <td>(250,)</td>\n",
       "      <td>45.560394</td>\n",
       "      <td>-73.596768</td>\n",
       "    </tr>\n",
       "    <tr>\n",
       "      <th>6</th>\n",
       "      <td>(Nouilles de Lan Zhou,)</td>\n",
       "      <td>(252,)</td>\n",
       "      <td>45.560394</td>\n",
       "      <td>-73.596768</td>\n",
       "    </tr>\n",
       "    <tr>\n",
       "      <th>7</th>\n",
       "      <td>(Chez Bong,)</td>\n",
       "      <td>(253,)</td>\n",
       "      <td>45.560394</td>\n",
       "      <td>-73.596768</td>\n",
       "    </tr>\n",
       "    <tr>\n",
       "      <th>8</th>\n",
       "      <td>(Restaurant Pho Bac Inc,)</td>\n",
       "      <td>(258,)</td>\n",
       "      <td>45.560394</td>\n",
       "      <td>-73.596768</td>\n",
       "    </tr>\n",
       "    <tr>\n",
       "      <th>9</th>\n",
       "      <td>(Nudo,)</td>\n",
       "      <td>(263,)</td>\n",
       "      <td>45.560394</td>\n",
       "      <td>-73.596768</td>\n",
       "    </tr>\n",
       "  </tbody>\n",
       "</table>\n",
       "</div>"
      ],
      "text/plain": [
       "                                       name distance   latitude  longitude\n",
       "0  (Restaurant Mon-Nan Cantonese Food Enr,)   (220,)  45.560394 -73.596768\n",
       "1                    (Restaurant Sai Gwan,)   (233,)  45.560394 -73.596768\n",
       "2                      (Pho Bang New York,)   (236,)  45.560394 -73.596768\n",
       "3                             (Sumo Ramen,)   (248,)  45.560394 -73.596768\n",
       "4                     (Qing Hua Chinatown,)   (250,)  45.560394 -73.596768\n",
       "5                                  (Amigo,)   (250,)  45.560394 -73.596768\n",
       "6                   (Nouilles de Lan Zhou,)   (252,)  45.560394 -73.596768\n",
       "7                              (Chez Bong,)   (253,)  45.560394 -73.596768\n",
       "8                 (Restaurant Pho Bac Inc,)   (258,)  45.560394 -73.596768\n",
       "9                                   (Nudo,)   (263,)  45.560394 -73.596768"
      ]
     },
     "execution_count": 259,
     "metadata": {},
     "output_type": "execute_result"
    }
   ],
   "source": [
    "fsq_df"
   ]
  },
  {
   "cell_type": "markdown",
   "metadata": {},
   "source": [
    "# Yelp"
   ]
  },
  {
   "cell_type": "markdown",
   "metadata": {},
   "source": [
    "Send a request to Yelp with a small radius (1000m) for all the bike stations in your city of choice. "
   ]
  },
  {
   "cell_type": "code",
   "execution_count": 256,
   "metadata": {},
   "outputs": [],
   "source": [
    "yelp_url = 'https://api.yelp.com/v3/businesses/search'"
   ]
  },
  {
   "cell_type": "code",
   "execution_count": 257,
   "metadata": {},
   "outputs": [
    {
     "data": {
      "text/plain": [
       "False"
      ]
     },
     "execution_count": 257,
     "metadata": {},
     "output_type": "execute_result"
    }
   ],
   "source": [
    "import os\n",
    "from dotenv import load_dotenv\n",
    "\n",
    "# Load environment variables from .env file\n",
    "load_dotenv()"
   ]
  },
  {
   "cell_type": "code",
   "execution_count": 258,
   "metadata": {},
   "outputs": [],
   "source": [
    " yelp_apikey"
   ]
  },
  {
   "cell_type": "code",
   "execution_count": null,
   "metadata": {},
   "outputs": [],
   "source": [
    "\n"
   ]
  },
  {
   "cell_type": "code",
   "execution_count": 217,
   "metadata": {},
   "outputs": [],
   "source": [
    "yelp_apikey = os.getenv(\"KEY\")"
   ]
  },
  {
   "cell_type": "code",
   "execution_count": 218,
   "metadata": {},
   "outputs": [],
   "source": [
    "from key import KEY"
   ]
  },
  {
   "cell_type": "code",
   "execution_count": 219,
   "metadata": {},
   "outputs": [],
   "source": [
    "yelp_url = 'https://api.yelp.com/v3/businesses/search'\n",
    "\n",
    "headers = {\n",
    "        'Authorization': KEY \n",
    "    }\n",
    "\n",
    "params = {\n",
    "         \"radius\": \"1000\",\n",
    "        'categories': 'restaurants'  \n",
    "         }\n",
    "for location in location_list:\n",
    "    params['location'] = location\n",
    "    response = requests.get(yelp_url, params=params, headers=headers)\n",
    "    \n",
    "    if response.status_code == 200:\n",
    "        data = response.json()\n"
   ]
  },
  {
   "cell_type": "code",
   "execution_count": 223,
   "metadata": {},
   "outputs": [],
   "source": [
    "# yelp_restaurants"
   ]
  },
  {
   "cell_type": "code",
   "execution_count": null,
   "metadata": {},
   "outputs": [],
   "source": []
  },
  {
   "cell_type": "markdown",
   "metadata": {},
   "source": [
    "Parse through the response to get the POI (such as restaurants, bars, etc) details you want (ratings, name, location, etc)"
   ]
  },
  {
   "cell_type": "code",
   "execution_count": null,
   "metadata": {},
   "outputs": [],
   "source": []
  },
  {
   "cell_type": "code",
   "execution_count": 260,
   "metadata": {},
   "outputs": [],
   "source": [
    "parse_data = []"
   ]
  },
  {
   "cell_type": "code",
   "execution_count": 261,
   "metadata": {},
   "outputs": [],
   "source": [
    "for restaurant in yelp_restaurants:\n",
    "    Name = restaurant['name'], \n",
    "    Rating = restaurant['rating'], \n",
    "    Review_Count = restaurant['review_count'],\n",
    "    latitude = restaurant['coordinates']['latitude']\n",
    "    longitude = restaurant['coordinates']['longitude']\n",
    "    price = restaurant.get('price', None)\n",
    "    yelp_dict = {'name' : Name , \n",
    "                 'Rating' : Rating , \n",
    "                 'Review_Count' : Review_Count, \n",
    "                 'longitude' : longitude, \n",
    "                 'latitude' : latitude, \n",
    "                 'price' : price\n",
    "                }\n",
    "    parse_data.append(yelp_dict)\n",
    "    \n",
    "    "
   ]
  },
  {
   "cell_type": "code",
   "execution_count": 262,
   "metadata": {},
   "outputs": [],
   "source": [
    "# parse_data\n"
   ]
  },
  {
   "cell_type": "markdown",
   "metadata": {},
   "source": [
    "\n",
    "Put your parsed results into a DataFrame"
   ]
  },
  {
   "cell_type": "code",
   "execution_count": 263,
   "metadata": {},
   "outputs": [],
   "source": [
    "yelp_df1 = pd.DataFrame(parse_data)"
   ]
  },
  {
   "cell_type": "code",
   "execution_count": 264,
   "metadata": {},
   "outputs": [
    {
     "data": {
      "text/html": [
       "<div>\n",
       "<style scoped>\n",
       "    .dataframe tbody tr th:only-of-type {\n",
       "        vertical-align: middle;\n",
       "    }\n",
       "\n",
       "    .dataframe tbody tr th {\n",
       "        vertical-align: top;\n",
       "    }\n",
       "\n",
       "    .dataframe thead th {\n",
       "        text-align: right;\n",
       "    }\n",
       "</style>\n",
       "<table border=\"1\" class=\"dataframe\">\n",
       "  <thead>\n",
       "    <tr style=\"text-align: right;\">\n",
       "      <th></th>\n",
       "      <th>name</th>\n",
       "      <th>Rating</th>\n",
       "      <th>Review_Count</th>\n",
       "      <th>longitude</th>\n",
       "      <th>latitude</th>\n",
       "      <th>price</th>\n",
       "    </tr>\n",
       "  </thead>\n",
       "  <tbody>\n",
       "    <tr>\n",
       "      <th>0</th>\n",
       "      <td>(Wing Phat,)</td>\n",
       "      <td>(4.0,)</td>\n",
       "      <td>(58,)</td>\n",
       "      <td>-73.601820</td>\n",
       "      <td>45.572850</td>\n",
       "      <td>$$</td>\n",
       "    </tr>\n",
       "    <tr>\n",
       "      <th>1</th>\n",
       "      <td>(Bar Zoé,)</td>\n",
       "      <td>(4.0,)</td>\n",
       "      <td>(12,)</td>\n",
       "      <td>-73.597456</td>\n",
       "      <td>45.559577</td>\n",
       "      <td>$</td>\n",
       "    </tr>\n",
       "    <tr>\n",
       "      <th>2</th>\n",
       "      <td>(Nouveau Crystal Rest,)</td>\n",
       "      <td>(4.5,)</td>\n",
       "      <td>(4,)</td>\n",
       "      <td>-73.592620</td>\n",
       "      <td>45.558480</td>\n",
       "      <td>None</td>\n",
       "    </tr>\n",
       "    <tr>\n",
       "      <th>3</th>\n",
       "      <td>(Steve Anna,)</td>\n",
       "      <td>(4.0,)</td>\n",
       "      <td>(5,)</td>\n",
       "      <td>-73.593167</td>\n",
       "      <td>45.557919</td>\n",
       "      <td>$</td>\n",
       "    </tr>\n",
       "    <tr>\n",
       "      <th>4</th>\n",
       "      <td>(Centrale Bergham,)</td>\n",
       "      <td>(3.0,)</td>\n",
       "      <td>(1,)</td>\n",
       "      <td>-73.592460</td>\n",
       "      <td>45.565780</td>\n",
       "      <td>None</td>\n",
       "    </tr>\n",
       "    <tr>\n",
       "      <th>5</th>\n",
       "      <td>(Fu Lam,)</td>\n",
       "      <td>(3.0,)</td>\n",
       "      <td>(6,)</td>\n",
       "      <td>-73.591253</td>\n",
       "      <td>45.568534</td>\n",
       "      <td>$$</td>\n",
       "    </tr>\n",
       "    <tr>\n",
       "      <th>6</th>\n",
       "      <td>(Pizza Lagua,)</td>\n",
       "      <td>(3.0,)</td>\n",
       "      <td>(2,)</td>\n",
       "      <td>-73.599700</td>\n",
       "      <td>45.566190</td>\n",
       "      <td>None</td>\n",
       "    </tr>\n",
       "    <tr>\n",
       "      <th>7</th>\n",
       "      <td>(La Table Fleurie,)</td>\n",
       "      <td>(5.0,)</td>\n",
       "      <td>(1,)</td>\n",
       "      <td>-73.594340</td>\n",
       "      <td>45.562930</td>\n",
       "      <td>None</td>\n",
       "    </tr>\n",
       "    <tr>\n",
       "      <th>8</th>\n",
       "      <td>(Chez Alberto,)</td>\n",
       "      <td>(4.0,)</td>\n",
       "      <td>(1,)</td>\n",
       "      <td>-73.596730</td>\n",
       "      <td>45.560260</td>\n",
       "      <td>None</td>\n",
       "    </tr>\n",
       "    <tr>\n",
       "      <th>9</th>\n",
       "      <td>(Double Pizza,)</td>\n",
       "      <td>(3.0,)</td>\n",
       "      <td>(2,)</td>\n",
       "      <td>-73.591248</td>\n",
       "      <td>45.566251</td>\n",
       "      <td>None</td>\n",
       "    </tr>\n",
       "    <tr>\n",
       "      <th>10</th>\n",
       "      <td>(Kim Jian,)</td>\n",
       "      <td>(4.0,)</td>\n",
       "      <td>(1,)</td>\n",
       "      <td>-73.597725</td>\n",
       "      <td>45.559258</td>\n",
       "      <td>None</td>\n",
       "    </tr>\n",
       "    <tr>\n",
       "      <th>11</th>\n",
       "      <td>(Sapore,)</td>\n",
       "      <td>(4.0,)</td>\n",
       "      <td>(5,)</td>\n",
       "      <td>-73.587750</td>\n",
       "      <td>45.570160</td>\n",
       "      <td>None</td>\n",
       "    </tr>\n",
       "    <tr>\n",
       "      <th>12</th>\n",
       "      <td>(Sak's Sandwicherie,)</td>\n",
       "      <td>(3.5,)</td>\n",
       "      <td>(4,)</td>\n",
       "      <td>-73.601021</td>\n",
       "      <td>45.560285</td>\n",
       "      <td>None</td>\n",
       "    </tr>\n",
       "    <tr>\n",
       "      <th>13</th>\n",
       "      <td>(Pho Hin,)</td>\n",
       "      <td>(1.0,)</td>\n",
       "      <td>(1,)</td>\n",
       "      <td>-73.589978</td>\n",
       "      <td>45.567859</td>\n",
       "      <td>None</td>\n",
       "    </tr>\n",
       "    <tr>\n",
       "      <th>14</th>\n",
       "      <td>(Harvey's,)</td>\n",
       "      <td>(3.5,)</td>\n",
       "      <td>(6,)</td>\n",
       "      <td>-73.590640</td>\n",
       "      <td>45.568110</td>\n",
       "      <td>None</td>\n",
       "    </tr>\n",
       "    <tr>\n",
       "      <th>15</th>\n",
       "      <td>(Au Coq,)</td>\n",
       "      <td>(2.5,)</td>\n",
       "      <td>(6,)</td>\n",
       "      <td>-73.589348</td>\n",
       "      <td>45.557509</td>\n",
       "      <td>None</td>\n",
       "    </tr>\n",
       "    <tr>\n",
       "      <th>16</th>\n",
       "      <td>(Pizza Pino,)</td>\n",
       "      <td>(4.0,)</td>\n",
       "      <td>(1,)</td>\n",
       "      <td>-73.595800</td>\n",
       "      <td>45.561290</td>\n",
       "      <td>None</td>\n",
       "    </tr>\n",
       "    <tr>\n",
       "      <th>17</th>\n",
       "      <td>(Super Pizza,)</td>\n",
       "      <td>(4.0,)</td>\n",
       "      <td>(1,)</td>\n",
       "      <td>-73.588690</td>\n",
       "      <td>45.562940</td>\n",
       "      <td>None</td>\n",
       "    </tr>\n",
       "    <tr>\n",
       "      <th>18</th>\n",
       "      <td>(Pho Asie,)</td>\n",
       "      <td>(4.0,)</td>\n",
       "      <td>(2,)</td>\n",
       "      <td>-73.598031</td>\n",
       "      <td>45.559406</td>\n",
       "      <td>None</td>\n",
       "    </tr>\n",
       "    <tr>\n",
       "      <th>19</th>\n",
       "      <td>(Papichulo Resto Bar,)</td>\n",
       "      <td>(3.0,)</td>\n",
       "      <td>(2,)</td>\n",
       "      <td>-73.596768</td>\n",
       "      <td>45.560394</td>\n",
       "      <td>None</td>\n",
       "    </tr>\n",
       "  </tbody>\n",
       "</table>\n",
       "</div>"
      ],
      "text/plain": [
       "                       name  Rating Review_Count  longitude   latitude price\n",
       "0              (Wing Phat,)  (4.0,)        (58,) -73.601820  45.572850    $$\n",
       "1                (Bar Zoé,)  (4.0,)        (12,) -73.597456  45.559577     $\n",
       "2   (Nouveau Crystal Rest,)  (4.5,)         (4,) -73.592620  45.558480  None\n",
       "3             (Steve Anna,)  (4.0,)         (5,) -73.593167  45.557919     $\n",
       "4       (Centrale Bergham,)  (3.0,)         (1,) -73.592460  45.565780  None\n",
       "5                 (Fu Lam,)  (3.0,)         (6,) -73.591253  45.568534    $$\n",
       "6            (Pizza Lagua,)  (3.0,)         (2,) -73.599700  45.566190  None\n",
       "7       (La Table Fleurie,)  (5.0,)         (1,) -73.594340  45.562930  None\n",
       "8           (Chez Alberto,)  (4.0,)         (1,) -73.596730  45.560260  None\n",
       "9           (Double Pizza,)  (3.0,)         (2,) -73.591248  45.566251  None\n",
       "10              (Kim Jian,)  (4.0,)         (1,) -73.597725  45.559258  None\n",
       "11                (Sapore,)  (4.0,)         (5,) -73.587750  45.570160  None\n",
       "12    (Sak's Sandwicherie,)  (3.5,)         (4,) -73.601021  45.560285  None\n",
       "13               (Pho Hin,)  (1.0,)         (1,) -73.589978  45.567859  None\n",
       "14              (Harvey's,)  (3.5,)         (6,) -73.590640  45.568110  None\n",
       "15                (Au Coq,)  (2.5,)         (6,) -73.589348  45.557509  None\n",
       "16            (Pizza Pino,)  (4.0,)         (1,) -73.595800  45.561290  None\n",
       "17           (Super Pizza,)  (4.0,)         (1,) -73.588690  45.562940  None\n",
       "18              (Pho Asie,)  (4.0,)         (2,) -73.598031  45.559406  None\n",
       "19   (Papichulo Resto Bar,)  (3.0,)         (2,) -73.596768  45.560394  None"
      ]
     },
     "execution_count": 264,
     "metadata": {},
     "output_type": "execute_result"
    }
   ],
   "source": [
    "yelp_df1"
   ]
  },
  {
   "cell_type": "code",
   "execution_count": 265,
   "metadata": {},
   "outputs": [],
   "source": [
    "yelp_df1.to_csv('yelp_data_frame.csv', index=False)"
   ]
  },
  {
   "cell_type": "code",
   "execution_count": null,
   "metadata": {},
   "outputs": [],
   "source": []
  },
  {
   "cell_type": "code",
   "execution_count": null,
   "metadata": {},
   "outputs": [],
   "source": []
  },
  {
   "cell_type": "markdown",
   "metadata": {},
   "source": [
    "# Comparing Results"
   ]
  },
  {
   "cell_type": "markdown",
   "metadata": {},
   "source": [
    "Which API provided you with more complete data? Provide an explanation. "
   ]
  },
  {
   "cell_type": "markdown",
   "metadata": {},
   "source": [
    "Compared to foursquare, Yelp has larger number of restaurants and more information about each restaruant is available  "
   ]
  },
  {
   "cell_type": "markdown",
   "metadata": {},
   "source": [
    "Get the top 10 restaurants according to their rating"
   ]
  },
  {
   "cell_type": "code",
   "execution_count": 241,
   "metadata": {},
   "outputs": [],
   "source": [
    "sorterd_by_rating = yelp_df1.sort_values('Rating', ascending=False)"
   ]
  },
  {
   "cell_type": "code",
   "execution_count": 242,
   "metadata": {},
   "outputs": [
    {
     "data": {
      "text/html": [
       "<div>\n",
       "<style scoped>\n",
       "    .dataframe tbody tr th:only-of-type {\n",
       "        vertical-align: middle;\n",
       "    }\n",
       "\n",
       "    .dataframe tbody tr th {\n",
       "        vertical-align: top;\n",
       "    }\n",
       "\n",
       "    .dataframe thead th {\n",
       "        text-align: right;\n",
       "    }\n",
       "</style>\n",
       "<table border=\"1\" class=\"dataframe\">\n",
       "  <thead>\n",
       "    <tr style=\"text-align: right;\">\n",
       "      <th></th>\n",
       "      <th>name</th>\n",
       "      <th>Rating</th>\n",
       "      <th>Review_Count</th>\n",
       "      <th>yelp_longitude</th>\n",
       "      <th>yelp_latitude</th>\n",
       "      <th>price</th>\n",
       "    </tr>\n",
       "  </thead>\n",
       "  <tbody>\n",
       "    <tr>\n",
       "      <th>7</th>\n",
       "      <td>(La Table Fleurie,)</td>\n",
       "      <td>(5.0,)</td>\n",
       "      <td>(1,)</td>\n",
       "      <td>-73.594340</td>\n",
       "      <td>45.562930</td>\n",
       "      <td>None</td>\n",
       "    </tr>\n",
       "    <tr>\n",
       "      <th>2</th>\n",
       "      <td>(Nouveau Crystal Rest,)</td>\n",
       "      <td>(4.5,)</td>\n",
       "      <td>(4,)</td>\n",
       "      <td>-73.592620</td>\n",
       "      <td>45.558480</td>\n",
       "      <td>None</td>\n",
       "    </tr>\n",
       "    <tr>\n",
       "      <th>0</th>\n",
       "      <td>(Wing Phat,)</td>\n",
       "      <td>(4.0,)</td>\n",
       "      <td>(58,)</td>\n",
       "      <td>-73.601820</td>\n",
       "      <td>45.572850</td>\n",
       "      <td>$$</td>\n",
       "    </tr>\n",
       "    <tr>\n",
       "      <th>1</th>\n",
       "      <td>(Bar Zoé,)</td>\n",
       "      <td>(4.0,)</td>\n",
       "      <td>(12,)</td>\n",
       "      <td>-73.597456</td>\n",
       "      <td>45.559577</td>\n",
       "      <td>$</td>\n",
       "    </tr>\n",
       "    <tr>\n",
       "      <th>18</th>\n",
       "      <td>(Pho Asie,)</td>\n",
       "      <td>(4.0,)</td>\n",
       "      <td>(2,)</td>\n",
       "      <td>-73.598031</td>\n",
       "      <td>45.559406</td>\n",
       "      <td>None</td>\n",
       "    </tr>\n",
       "    <tr>\n",
       "      <th>17</th>\n",
       "      <td>(Super Pizza,)</td>\n",
       "      <td>(4.0,)</td>\n",
       "      <td>(1,)</td>\n",
       "      <td>-73.588690</td>\n",
       "      <td>45.562940</td>\n",
       "      <td>None</td>\n",
       "    </tr>\n",
       "    <tr>\n",
       "      <th>16</th>\n",
       "      <td>(Pizza Pino,)</td>\n",
       "      <td>(4.0,)</td>\n",
       "      <td>(1,)</td>\n",
       "      <td>-73.595800</td>\n",
       "      <td>45.561290</td>\n",
       "      <td>None</td>\n",
       "    </tr>\n",
       "    <tr>\n",
       "      <th>11</th>\n",
       "      <td>(Sapore,)</td>\n",
       "      <td>(4.0,)</td>\n",
       "      <td>(5,)</td>\n",
       "      <td>-73.587750</td>\n",
       "      <td>45.570160</td>\n",
       "      <td>None</td>\n",
       "    </tr>\n",
       "    <tr>\n",
       "      <th>10</th>\n",
       "      <td>(Kim Jian,)</td>\n",
       "      <td>(4.0,)</td>\n",
       "      <td>(1,)</td>\n",
       "      <td>-73.597725</td>\n",
       "      <td>45.559258</td>\n",
       "      <td>None</td>\n",
       "    </tr>\n",
       "    <tr>\n",
       "      <th>8</th>\n",
       "      <td>(Chez Alberto,)</td>\n",
       "      <td>(4.0,)</td>\n",
       "      <td>(1,)</td>\n",
       "      <td>-73.596730</td>\n",
       "      <td>45.560260</td>\n",
       "      <td>None</td>\n",
       "    </tr>\n",
       "  </tbody>\n",
       "</table>\n",
       "</div>"
      ],
      "text/plain": [
       "                       name  Rating Review_Count  yelp_longitude  \\\n",
       "7       (La Table Fleurie,)  (5.0,)         (1,)      -73.594340   \n",
       "2   (Nouveau Crystal Rest,)  (4.5,)         (4,)      -73.592620   \n",
       "0              (Wing Phat,)  (4.0,)        (58,)      -73.601820   \n",
       "1                (Bar Zoé,)  (4.0,)        (12,)      -73.597456   \n",
       "18              (Pho Asie,)  (4.0,)         (2,)      -73.598031   \n",
       "17           (Super Pizza,)  (4.0,)         (1,)      -73.588690   \n",
       "16            (Pizza Pino,)  (4.0,)         (1,)      -73.595800   \n",
       "11                (Sapore,)  (4.0,)         (5,)      -73.587750   \n",
       "10              (Kim Jian,)  (4.0,)         (1,)      -73.597725   \n",
       "8           (Chez Alberto,)  (4.0,)         (1,)      -73.596730   \n",
       "\n",
       "    yelp_latitude price  \n",
       "7       45.562930  None  \n",
       "2       45.558480  None  \n",
       "0       45.572850    $$  \n",
       "1       45.559577     $  \n",
       "18      45.559406  None  \n",
       "17      45.562940  None  \n",
       "16      45.561290  None  \n",
       "11      45.570160  None  \n",
       "10      45.559258  None  \n",
       "8       45.560260  None  "
      ]
     },
     "execution_count": 242,
     "metadata": {},
     "output_type": "execute_result"
    }
   ],
   "source": [
    "sorterd_by_rating.head(10)"
   ]
  },
  {
   "cell_type": "code",
   "execution_count": null,
   "metadata": {},
   "outputs": [],
   "source": []
  },
  {
   "cell_type": "code",
   "execution_count": null,
   "metadata": {},
   "outputs": [],
   "source": []
  },
  {
   "cell_type": "code",
   "execution_count": null,
   "metadata": {},
   "outputs": [],
   "source": []
  }
 ],
 "metadata": {
  "kernelspec": {
   "display_name": "Python 3 (ipykernel)",
   "language": "python",
   "name": "python3"
  },
  "language_info": {
   "codemirror_mode": {
    "name": "ipython",
    "version": 3
   },
   "file_extension": ".py",
   "mimetype": "text/x-python",
   "name": "python",
   "nbconvert_exporter": "python",
   "pygments_lexer": "ipython3",
   "version": "3.10.9"
  }
 },
 "nbformat": 4,
 "nbformat_minor": 4
}
