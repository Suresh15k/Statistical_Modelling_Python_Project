{
 "cells": [
  {
   "cell_type": "markdown",
   "metadata": {},
   "source": [
    "Build a regression model."
   ]
  },
  {
   "cell_type": "code",
   "execution_count": 9,
   "metadata": {},
   "outputs": [],
   "source": [
    "import pandas as pd\n",
    "import statsmodels.api as sm"
   ]
  },
  {
   "cell_type": "code",
   "execution_count": 10,
   "metadata": {},
   "outputs": [],
   "source": [
    "%store -r new_merged_df"
   ]
  },
  {
   "cell_type": "code",
   "execution_count": 15,
   "metadata": {},
   "outputs": [],
   "source": [
    "new_merged_df.dropna(subset=['free_bikes', 'slots'], inplace=True)"
   ]
  },
  {
   "cell_type": "code",
   "execution_count": 16,
   "metadata": {},
   "outputs": [],
   "source": [
    "X = new_merged_df ['free_bikes']"
   ]
  },
  {
   "cell_type": "code",
   "execution_count": 17,
   "metadata": {},
   "outputs": [],
   "source": [
    "Y = new_merged_df ['slots']"
   ]
  },
  {
   "cell_type": "code",
   "execution_count": 18,
   "metadata": {},
   "outputs": [],
   "source": [
    "X = sm.add_constant(X)  \n",
    "model = sm.OLS(Y, X)    \n",
    "result = model.fit() "
   ]
  },
  {
   "cell_type": "code",
   "execution_count": 19,
   "metadata": {},
   "outputs": [
    {
     "name": "stdout",
     "output_type": "stream",
     "text": [
      "                            OLS Regression Results                            \n",
      "==============================================================================\n",
      "Dep. Variable:                  slots   R-squared:                       0.061\n",
      "Model:                            OLS   Adj. R-squared:                  0.059\n",
      "Method:                 Least Squares   F-statistic:                     49.06\n",
      "Date:                Wed, 05 Jul 2023   Prob (F-statistic):           5.47e-12\n",
      "Time:                        02:37:44   Log-Likelihood:                -2572.2\n",
      "No. Observations:                 762   AIC:                             5148.\n",
      "Df Residuals:                     760   BIC:                             5158.\n",
      "Df Model:                           1                                         \n",
      "Covariance Type:            nonrobust                                         \n",
      "==============================================================================\n",
      "                 coef    std err          t      P>|t|      [0.025      0.975]\n",
      "------------------------------------------------------------------------------\n",
      "const         19.8791      0.399     49.884      0.000      19.097      20.661\n",
      "free_bikes     0.2706      0.039      7.004      0.000       0.195       0.346\n",
      "==============================================================================\n",
      "Omnibus:                      403.004   Durbin-Watson:                   1.715\n",
      "Prob(Omnibus):                  0.000   Jarque-Bera (JB):             3720.830\n",
      "Skew:                           2.209   Prob(JB):                         0.00\n",
      "Kurtosis:                      12.883   Cond. No.                         16.1\n",
      "==============================================================================\n",
      "\n",
      "Notes:\n",
      "[1] Standard Errors assume that the covariance matrix of the errors is correctly specified.\n"
     ]
    }
   ],
   "source": [
    "print(result.summary())"
   ]
  },
  {
   "cell_type": "code",
   "execution_count": null,
   "metadata": {},
   "outputs": [],
   "source": []
  },
  {
   "cell_type": "code",
   "execution_count": null,
   "metadata": {},
   "outputs": [],
   "source": []
  },
  {
   "cell_type": "markdown",
   "metadata": {},
   "source": [
    "Provide model output and an interpretation of the results. "
   ]
  },
  {
   "cell_type": "markdown",
   "metadata": {},
   "source": [
    "R-squared: R-squared value is 0.061, indicating that approximately 6.1% of the variability in slots can be explained by the number of free_bikes.\n",
    "\n",
    "Adj. R-squared: The adjusted R-squared value is 0.059, which is slightly lower than the R-squared value, indicating that the inclusion of the free_bikes variable does not significantly improve the model's explanatory power.\n",
    "\n",
    "The low p-value indicates that the model as a whole is statistically significant, suggesting that the relationship between free_bikes and slots is unlikely to occur by chance.\n",
    "\n",
    "Coefficients: The coefficient for free_bikes is 0.2706, indicating that, on average, for each additional free_bike, there is an expected increase of 0.2706 slots.\n",
    "\n",
    "Standard error: The standard errors estimate the variability in the coefficient estimates. The standard error for the constant term is 0.399, and for the free_bikes variable, it is 0.039.\n",
    "\n",
    "t-statistic and p-values: The t-statistic measures the significance of the coefficient estimates. The p-values associated with the t-statistics determine the statistical significance of each coefficient. In this case, both the constant term and the free_bikes variable have p-values close to zero, indicating that they are statistically significant predictors of slots.\n",
    "\n",
    "Confidence intervals: we can be 95% confident that the true population values of the coefficients fall within these intervals."
   ]
  },
  {
   "cell_type": "markdown",
   "metadata": {},
   "source": [
    "# Stretch"
   ]
  },
  {
   "cell_type": "markdown",
   "metadata": {},
   "source": [
    "How can you turn the regression model into a classification model?"
   ]
  },
  {
   "cell_type": "code",
   "execution_count": null,
   "metadata": {},
   "outputs": [],
   "source": []
  }
 ],
 "metadata": {
  "kernelspec": {
   "display_name": "Python 3 (ipykernel)",
   "language": "python",
   "name": "python3"
  },
  "language_info": {
   "codemirror_mode": {
    "name": "ipython",
    "version": 3
   },
   "file_extension": ".py",
   "mimetype": "text/x-python",
   "name": "python",
   "nbconvert_exporter": "python",
   "pygments_lexer": "ipython3",
   "version": "3.10.9"
  }
 },
 "nbformat": 4,
 "nbformat_minor": 4
}
